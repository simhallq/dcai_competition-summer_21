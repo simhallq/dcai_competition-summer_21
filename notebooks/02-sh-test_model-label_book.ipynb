{
    "cells": [
        {
            "cell_type": "code",
            "execution_count": 12,
            "source": [
                "import tensorflow as tf\n",
                "\n",
                "base_model = tf.keras.applications.ResNet50(\n",
                "input_shape=(32, 32, 3),\n",
                "include_top=False,\n",
                "weights=None,\n",
                ")\n",
                "base_model = tf.keras.Model(\n",
                "base_model.inputs, outputs=[base_model.get_layer(\"conv2_block3_out\").output]\n",
                ")\n",
                "\n",
                "inputs = tf.keras.Input(shape=(32, 32, 3))\n",
                "x = tf.keras.applications.resnet.preprocess_input(inputs)\n",
                "x = base_model(x)\n",
                "x = tf.keras.layers.GlobalAveragePooling2D()(x)\n",
                "x = tf.keras.layers.Dense(10)(x)\n",
                "model = tf.keras.Model(inputs, x)\n",
                "\n",
                "model.compile(\n",
                "optimizer=tf.keras.optimizers.Adam(lr=0.0001),\n",
                "loss=tf.keras.losses.CategoricalCrossentropy(from_logits=True),\n",
                "metrics=[\"accuracy\"],\n",
                ")\n",
                "model.load_weights(\"best_modeltrain-aug-v_2\")"
            ],
            "outputs": [
                {
                    "output_type": "execute_result",
                    "data": {
                        "text/plain": [
                            "<tensorflow.python.training.tracking.util.CheckpointLoadStatus at 0x17f6d1310>"
                        ]
                    },
                    "metadata": {},
                    "execution_count": 12
                }
            ],
            "metadata": {}
        },
        {
            "cell_type": "code",
            "execution_count": 13,
            "source": [
                "batch_size = 8\n",
                "test_data='../data/label_book'\n",
                "test = tf.keras.preprocessing.image_dataset_from_directory(\n",
                "    test_data,\n",
                "    labels=\"inferred\",\n",
                "    label_mode=\"categorical\",\n",
                "    class_names=[\"i\", \"ii\", \"iii\", \"iv\", \"v\", \"vi\", \"vii\", \"viii\", \"ix\", \"x\"],\n",
                "    shuffle=False,\n",
                "    seed=123,\n",
                "    batch_size=batch_size,\n",
                "    image_size=(32, 32),\n",
                ")\n"
            ],
            "outputs": [
                {
                    "output_type": "stream",
                    "name": "stdout",
                    "text": [
                        "Found 52 files belonging to 10 classes.\n"
                    ]
                }
            ],
            "metadata": {}
        },
        {
            "cell_type": "code",
            "execution_count": 30,
            "source": [
                "import numpy as np\n",
                "y_true_test=np.argmax(np.concatenate([y for x, y in test], axis=0),axis=1)\n",
                "y_true_test=[_+1 for _ in y_true_test]\n",
                "np.array(y_true_test)\n",
                "y_true_test=np.array(y_true_test)\n",
                "y_true_test"
            ],
            "outputs": [
                {
                    "output_type": "execute_result",
                    "data": {
                        "text/plain": [
                            "array([ 1,  1,  1,  1,  1,  2,  2,  2,  2,  2,  3,  3,  3,  3,  3,  3,  4,\n",
                            "        4,  4,  4,  4,  5,  5,  5,  5,  5,  5,  6,  6,  6,  6,  6,  7,  7,\n",
                            "        7,  7,  7,  8,  8,  8,  8,  8,  9,  9,  9,  9,  9, 10, 10, 10, 10,\n",
                            "       10])"
                        ]
                    },
                    "metadata": {},
                    "execution_count": 30
                }
            ],
            "metadata": {}
        },
        {
            "cell_type": "code",
            "execution_count": 29,
            "source": [
                "\n",
                "y_hat_test=np.argmax(model.predict(test),axis=1)\n",
                "y_hat_test=[_+1 for _ in y_hat_test]\n",
                "y_hat_test=np.array(y_hat_test)\n",
                "y_hat_test"
            ],
            "outputs": [
                {
                    "output_type": "execute_result",
                    "data": {
                        "text/plain": [
                            "array([ 1,  1,  1,  1,  1,  2,  3,  3,  2,  2,  3,  3,  3,  3,  3,  1,  4,\n",
                            "        4,  4,  4,  4,  5,  5,  1,  5,  5,  5,  2,  6,  6,  6,  6,  7,  3,\n",
                            "        7,  7,  8,  8,  8,  8,  8,  7,  9,  9,  4,  2,  9,  9, 10, 10, 10,\n",
                            "        9])"
                        ]
                    },
                    "metadata": {},
                    "execution_count": 29
                }
            ],
            "metadata": {}
        },
        {
            "cell_type": "code",
            "execution_count": null,
            "source": [
                "for true, pred in zip(y_true_test,y_hat):\n",
                "    if true==pred:\n",
                "        print(pred,'✅')\n",
                "    if true!=pred:\n",
                "        print(pred,'❌')"
            ],
            "outputs": [],
            "metadata": {}
        },
        {
            "cell_type": "code",
            "execution_count": 31,
            "source": [
                "#get frequency of labels\n",
                "import collections\n",
                "\n",
                "d=dict(collections.Counter(y_hat_test))\n",
                "d\n",
                "#show frequency of labels in descending order\n",
                "sorted([(k,v)for k,v in d.items()],key=lambda item:item[1],reverse=True)\n"
            ],
            "outputs": [
                {
                    "output_type": "execute_result",
                    "data": {
                        "text/plain": [
                            "[(3, 8),\n",
                            " (1, 7),\n",
                            " (4, 6),\n",
                            " (2, 5),\n",
                            " (5, 5),\n",
                            " (8, 5),\n",
                            " (9, 5),\n",
                            " (6, 4),\n",
                            " (7, 4),\n",
                            " (10, 3)]"
                        ]
                    },
                    "metadata": {},
                    "execution_count": 31
                }
            ],
            "metadata": {}
        },
        {
            "cell_type": "code",
            "execution_count": null,
            "source": [
                "d[1]"
            ],
            "outputs": [],
            "metadata": {}
        },
        {
            "cell_type": "code",
            "execution_count": null,
            "source": [
                "accuracy=1-sum(y_true_test!=y_hat_test)/len(y_hat_test)\n",
                "print(f\"Accuracy: {accuracy}\")\n",
                "model.evaluate(test)\n",
                "\n"
            ],
            "outputs": [],
            "metadata": {}
        },
        {
            "cell_type": "code",
            "execution_count": 33,
            "source": [
                "index_mislabeled[-2]"
            ],
            "outputs": [
                {
                    "output_type": "execute_result",
                    "data": {
                        "text/plain": [
                            "47"
                        ]
                    },
                    "metadata": {},
                    "execution_count": 33
                }
            ],
            "metadata": {}
        },
        {
            "cell_type": "code",
            "execution_count": 37,
            "source": [
                "from IPython.display import Image, display\n",
                "from pathlib import Path\n",
                "\n",
                "index_mislabeled=[]\n",
                "for i,bad_pred in enumerate(y_true_test!=y_hat_test):\n",
                "    if bad_pred:\n",
                "        index_mislabeled.append(i)\n",
                "len(index_mislabeled)\n",
                "\n",
                "\n",
                "\n",
                "def print_imgs_from_indices(indices,img_dir_path):\n",
                "    p = Path(img_dir_path)\n",
                "    all_img_paths=list(p.glob('**/*.png'))\n",
                "    for i in indices:\n",
                "        print(str(all_img_paths[i]))\n",
                "        print(f\"Labelled as: {y_hat_test[i]}\")\n",
                "        display(Image(filename=all_img_paths[i]))\n",
                "        print()\n",
                "\n",
                "\n",
                "\n",
                "    #Image(filename='test.png')\n",
                "#for i in indices_of_wrong_pred:\n",
                "    #print(f'Predicted: {pred_labels[i]+1} Actual: {y_labels[i]+1}')\n",
                "print_imgs_from_indices(index_mislabeled,'../data/label_book')\n",
                "#Something is not right here...."
            ],
            "outputs": [
                {
                    "output_type": "stream",
                    "name": "stdout",
                    "text": [
                        "../data/label_book/ii/a3ef6ed0-ce5d-11eb-b317-38f9d35ea60f.png\n",
                        "Labelled as: 3\n"
                    ]
                },
                {
                    "output_type": "display_data",
                    "data": {
                        "text/plain": [
                            "<IPython.core.display.Image object>"
                        ],
                        "image/png": "[encoded data removed]"
                    },
                    "metadata": {}
                },
                {
                    "output_type": "stream",
                    "name": "stdout",
                    "text": [
                        "\n",
                        "../data/label_book/ii/a3e33dcc-ce5d-11eb-b317-38f9d35ea60f.png\n",
                        "Labelled as: 3\n"
                    ]
                },
                {
                    "output_type": "display_data",
                    "data": {
                        "text/plain": [
                            "<IPython.core.display.Image object>"
                        ],
                        "image/png": "[encoded data removed]"
                    },
                    "metadata": {}
                },
                {
                    "output_type": "stream",
                    "name": "stdout",
                    "text": [
                        "\n",
                        "../data/label_book/vii/a5ade382-ce5d-11eb-b317-38f9d35ea60f.png\n",
                        "Labelled as: 1\n"
                    ]
                },
                {
                    "output_type": "display_data",
                    "data": {
                        "text/plain": [
                            "<IPython.core.display.Image object>"
                        ],
                        "image/png": "[encoded data removed]"
                    },
                    "metadata": {}
                },
                {
                    "output_type": "stream",
                    "name": "stdout",
                    "text": [
                        "\n",
                        "../data/label_book/viii/a626842c-ce5d-11eb-b317-38f9d35ea60f.png\n",
                        "Labelled as: 1\n"
                    ]
                },
                {
                    "output_type": "display_data",
                    "data": {
                        "text/plain": [
                            "<IPython.core.display.Image object>"
                        ],
                        "image/png": "[encoded data removed]"
                    },
                    "metadata": {}
                },
                {
                    "output_type": "stream",
                    "name": "stdout",
                    "text": [
                        "\n",
                        "../data/label_book/iv/a7183a10-ce5d-11eb-b317-38f9d35ea60f.png\n",
                        "Labelled as: 2\n"
                    ]
                },
                {
                    "output_type": "display_data",
                    "data": {
                        "text/plain": [
                            "<IPython.core.display.Image object>"
                        ],
                        "image/png": "[encoded data removed]"
                    },
                    "metadata": {}
                },
                {
                    "output_type": "stream",
                    "name": "stdout",
                    "text": [
                        "\n",
                        "../data/label_book/ix/a7967416-ce5d-11eb-b317-38f9d35ea60f.png\n",
                        "Labelled as: 3\n"
                    ]
                },
                {
                    "output_type": "display_data",
                    "data": {
                        "text/plain": [
                            "<IPython.core.display.Image object>"
                        ],
                        "image/png": "[encoded data removed]"
                    },
                    "metadata": {}
                },
                {
                    "output_type": "stream",
                    "name": "stdout",
                    "text": [
                        "\n",
                        "../data/label_book/v/a8e27400-ce5d-11eb-b317-38f9d35ea60f.png\n",
                        "Labelled as: 8\n"
                    ]
                },
                {
                    "output_type": "display_data",
                    "data": {
                        "text/plain": [
                            "<IPython.core.display.Image object>"
                        ],
                        "image/png": "[encoded data removed]"
                    },
                    "metadata": {}
                },
                {
                    "output_type": "stream",
                    "name": "stdout",
                    "text": [
                        "\n",
                        "../data/label_book/x/a9b14348-ce5d-11eb-b317-38f9d35ea60f.png\n",
                        "Labelled as: 7\n"
                    ]
                },
                {
                    "output_type": "display_data",
                    "data": {
                        "text/plain": [
                            "<IPython.core.display.Image object>"
                        ],
                        "image/png": "[encoded data removed]"
                    },
                    "metadata": {}
                },
                {
                    "output_type": "stream",
                    "name": "stdout",
                    "text": [
                        "\n",
                        "../data/label_book/x/a9e4f63e-ce5d-11eb-b317-38f9d35ea60f.png\n",
                        "Labelled as: 4\n"
                    ]
                },
                {
                    "output_type": "display_data",
                    "data": {
                        "text/plain": [
                            "<IPython.core.display.Image object>"
                        ],
                        "image/png": "[encoded data removed]"
                    },
                    "metadata": {}
                },
                {
                    "output_type": "stream",
                    "name": "stdout",
                    "text": [
                        "\n",
                        "../data/label_book/x/a9a4255a-ce5d-11eb-b317-38f9d35ea60f.png\n",
                        "Labelled as: 2\n"
                    ]
                },
                {
                    "output_type": "display_data",
                    "data": {
                        "text/plain": [
                            "<IPython.core.display.Image object>"
                        ],
                        "image/png": "[encoded data removed]"
                    },
                    "metadata": {}
                },
                {
                    "output_type": "stream",
                    "name": "stdout",
                    "text": [
                        "\n",
                        "../data/label_book/iii/aa864ee4-ce5d-11eb-b317-38f9d35ea60f.png\n",
                        "Labelled as: 9\n"
                    ]
                },
                {
                    "output_type": "display_data",
                    "data": {
                        "text/plain": [
                            "<IPython.core.display.Image object>"
                        ],
                        "image/png": "[encoded data removed]"
                    },
                    "metadata": {}
                },
                {
                    "output_type": "stream",
                    "name": "stdout",
                    "text": [
                        "\n",
                        "../data/label_book/iii/aaa15680-ce5d-11eb-b317-38f9d35ea60f.png\n",
                        "Labelled as: 9\n"
                    ]
                },
                {
                    "output_type": "display_data",
                    "data": {
                        "text/plain": [
                            "<IPython.core.display.Image object>"
                        ],
                        "image/png": "[encoded data removed]"
                    },
                    "metadata": {}
                },
                {
                    "output_type": "stream",
                    "name": "stdout",
                    "text": [
                        "\n"
                    ]
                }
            ],
            "metadata": {}
        },
        {
            "cell_type": "code",
            "execution_count": 14,
            "source": [
                "batch_size = 8\n",
                "val_data='../data/val-clean'\n",
                "val = tf.keras.preprocessing.image_dataset_from_directory(\n",
                "    val_data,\n",
                "    labels=\"inferred\",\n",
                "    label_mode=\"categorical\",\n",
                "    class_names=[\"i\", \"ii\", \"iii\", \"iv\", \"v\", \"vi\", \"vii\", \"viii\", \"ix\", \"x\"],\n",
                "    shuffle=False,\n",
                "    seed=123,\n",
                "    batch_size=batch_size,\n",
                "    image_size=(32, 32),\n",
                ")\n"
            ],
            "outputs": [
                {
                    "output_type": "stream",
                    "name": "stdout",
                    "text": [
                        "Found 764 files belonging to 10 classes.\n"
                    ]
                }
            ],
            "metadata": {}
        },
        {
            "cell_type": "code",
            "execution_count": 21,
            "source": [
                "import numpy as np\n",
                "y_true=np.argmax(np.concatenate([y for x, y in val], axis=0),axis=1)\n",
                "y_true=[_+1 for _ in y_true]\n",
                "np.array(y_true)\n",
                "y_true=np.array(y_true)\n",
                "\n",
                "\n",
                "y_hat=np.argmax(model.predict(val),axis=1)\n",
                "y_hat=[_+1 for _ in y_hat]\n",
                "y_hat=np.array(y_hat)\n",
                "\n",
                "#get frequency of labels\n",
                "import collections\n",
                "\n",
                "d=dict(collections.Counter(y_hat))\n",
                "d\n",
                "#show frequency of labels in descending order\n",
                "sorted([(k,v)for k,v in d.items()],key=lambda item:item[1],reverse=True)\n"
            ],
            "outputs": [
                {
                    "output_type": "execute_result",
                    "data": {
                        "text/plain": [
                            "[(4, 90),\n",
                            " (7, 84),\n",
                            " (1, 81),\n",
                            " (5, 79),\n",
                            " (3, 76),\n",
                            " (6, 75),\n",
                            " (8, 72),\n",
                            " (2, 71),\n",
                            " (9, 70),\n",
                            " (10, 66)]"
                        ]
                    },
                    "metadata": {},
                    "execution_count": 21
                }
            ],
            "metadata": {}
        },
        {
            "cell_type": "code",
            "execution_count": 23,
            "source": [
                "d=dict(collections.Counter(y_true))\n",
                "d\n",
                "#show frequency of true labels in descending order\n",
                "sorted([(k,v)for k,v in d.items()],key=lambda item:item[1],reverse=True)"
            ],
            "outputs": [
                {
                    "output_type": "execute_result",
                    "data": {
                        "text/plain": [
                            "[(8, 83),\n",
                            " (6, 82),\n",
                            " (2, 81),\n",
                            " (4, 81),\n",
                            " (5, 78),\n",
                            " (9, 75),\n",
                            " (1, 74),\n",
                            " (3, 70),\n",
                            " (7, 70),\n",
                            " (10, 70)]"
                        ]
                    },
                    "metadata": {},
                    "execution_count": 23
                }
            ],
            "metadata": {}
        },
        {
            "cell_type": "code",
            "execution_count": 20,
            "source": [
                "model.evaluate(val)"
            ],
            "outputs": [
                {
                    "output_type": "stream",
                    "name": "stdout",
                    "text": [
                        "96/96 [==============================] - 1s 6ms/step - loss: 0.6359 - accuracy: 0.8678\n"
                    ]
                },
                {
                    "output_type": "execute_result",
                    "data": {
                        "text/plain": [
                            "[0.6359488368034363, 0.8678010702133179]"
                        ]
                    },
                    "metadata": {},
                    "execution_count": 20
                }
            ],
            "metadata": {}
        },
        {
            "cell_type": "code",
            "execution_count": 24,
            "source": [
                "d=dict(collections.Counter(y_hat))\n",
                "d\n",
                "#show frequency of labels in descending order\n",
                "[(k,v)for k,v in d.items()]\n"
            ],
            "outputs": [
                {
                    "output_type": "execute_result",
                    "data": {
                        "text/plain": [
                            "[(1, 81),\n",
                            " (2, 71),\n",
                            " (4, 90),\n",
                            " (3, 76),\n",
                            " (5, 79),\n",
                            " (9, 70),\n",
                            " (7, 84),\n",
                            " (8, 72),\n",
                            " (6, 75),\n",
                            " (10, 66)]"
                        ]
                    },
                    "metadata": {},
                    "execution_count": 24
                }
            ],
            "metadata": {}
        },
        {
            "cell_type": "code",
            "execution_count": null,
            "source": [],
            "outputs": [],
            "metadata": {}
        }
    ],
    "metadata": {
        "orig_nbformat": 4,
        "language_info": {
            "name": "python",
            "version": "3.8.10",
            "mimetype": "text/x-python",
            "codemirror_mode": {
                "name": "ipython",
                "version": 3
            },
            "pygments_lexer": "ipython3",
            "nbconvert_exporter": "python",
            "file_extension": ".py"
        },
        "kernelspec": {
            "name": "python3",
            "display_name": "Python 3.8.10 64-bit ('tf_m1': conda)"
        },
        "interpreter": {
            "hash": "209cf731f3cd8258de834293906c865ec04610b0152d9d85d8232254c3973610"
        }
    },
    "nbformat": 4,
    "nbformat_minor": 2
}
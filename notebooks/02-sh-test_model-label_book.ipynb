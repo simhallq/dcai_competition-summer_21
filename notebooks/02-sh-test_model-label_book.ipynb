{
    "cells": [
        {
            "cell_type": "code",
            "execution_count": 1,
            "source": [
                "import tensorflow as tf\n",
                "\n",
                "\n",
                "#initiate model and load trained weights from file\n",
                "base_model = tf.keras.applications.ResNet50(\n",
                "input_shape=(32, 32, 3),\n",
                "include_top=False,\n",
                "weights=None,\n",
                ")\n",
                "base_model = tf.keras.Model(\n",
                "base_model.inputs, outputs=[base_model.get_layer(\"conv2_block3_out\").output]\n",
                ")\n",
                "\n",
                "inputs = tf.keras.Input(shape=(32, 32, 3))\n",
                "x = tf.keras.applications.resnet.preprocess_input(inputs)\n",
                "x = base_model(x)\n",
                "x = tf.keras.layers.GlobalAveragePooling2D()(x)\n",
                "x = tf.keras.layers.Dense(10)(x)\n",
                "model = tf.keras.Model(inputs, x)\n",
                "\n",
                "model.compile(\n",
                "optimizer=tf.keras.optimizers.Adam(lr=0.0001),\n",
                "loss=tf.keras.losses.CategoricalCrossentropy(from_logits=True),\n",
                "metrics=[\"accuracy\"],\n",
                ")\n",
                "model.load_weights(\"best_model\")"
            ],
            "outputs": [
                {
                    "output_type": "execute_result",
                    "data": {
                        "text/plain": [
                            "<tensorflow.python.training.tracking.util.CheckpointLoadStatus at 0x136ed0400>"
                        ]
                    },
                    "metadata": {},
                    "execution_count": 1
                }
            ],
            "metadata": {}
        },
        {
            "cell_type": "code",
            "execution_count": 2,
            "source": [
                "#load test data\n",
                "batch_size = 1\n",
                "test_data='../data/label_book'\n",
                "test = tf.keras.preprocessing.image_dataset_from_directory(\n",
                "    test_data,\n",
                "    labels=\"inferred\",\n",
                "    label_mode=\"categorical\",\n",
                "    class_names=[\"i\", \"ii\", \"iii\", \"iv\", \"v\", \"vi\", \"vii\", \"viii\", \"ix\", \"x\"],\n",
                "    shuffle=False,\n",
                "    seed=123,\n",
                "    batch_size=batch_size,\n",
                "    image_size=(32, 32),\n",
                ")\n"
            ],
            "outputs": [
                {
                    "output_type": "stream",
                    "name": "stdout",
                    "text": [
                        "Found 52 files belonging to 10 classes.\n"
                    ]
                }
            ],
            "metadata": {}
        },
        {
            "cell_type": "code",
            "execution_count": 3,
            "source": [
                "model.evaluate(test)"
            ],
            "outputs": [
                {
                    "output_type": "stream",
                    "name": "stdout",
                    "text": [
                        "7/7 [==============================] - 0s 7ms/step - loss: 2.2308 - accuracy: 0.5767\n"
                    ]
                },
                {
                    "output_type": "execute_result",
                    "data": {
                        "text/plain": [
                            "[2.649444103240967, 0.5192307829856873]"
                        ]
                    },
                    "metadata": {},
                    "execution_count": 3
                }
            ],
            "metadata": {}
        },
        {
            "cell_type": "code",
            "execution_count": null,
            "source": [],
            "outputs": [],
            "metadata": {}
        }
    ],
    "metadata": {
        "orig_nbformat": 4,
        "language_info": {
            "name": "python",
            "version": "3.8.10",
            "mimetype": "text/x-python",
            "codemirror_mode": {
                "name": "ipython",
                "version": 3
            },
            "pygments_lexer": "ipython3",
            "nbconvert_exporter": "python",
            "file_extension": ".py"
        },
        "kernelspec": {
            "name": "python3",
            "display_name": "Python 3.8.10 64-bit ('tf_m1': conda)"
        },
        "interpreter": {
            "hash": "209cf731f3cd8258de834293906c865ec04610b0152d9d85d8232254c3973610"
        }
    },
    "nbformat": 4,
    "nbformat_minor": 2
}
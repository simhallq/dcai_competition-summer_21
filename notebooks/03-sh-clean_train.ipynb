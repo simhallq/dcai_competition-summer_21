{
    "cells": [
        {
            "cell_type": "code",
            "execution_count": null,
            "source": [
                "bad_data=[]\n",
                "with open('../bad_data.txt') as f:\n",
                "    bad_data=f.readlines()\n",
                "bad_data=[_.replace('\\n','') for _ in bad_data]\n",
                "bad_data"
            ],
            "outputs": [],
            "metadata": {}
        },
        {
            "cell_type": "code",
            "execution_count": null,
            "source": [
                "#{'train':{'i':{'n_examples':,bad_examples:[]}[],'ii':[]....},'val:{......}}\n",
                "\n",
                "bad_data_dct={}\n",
                "train_or_val='train'\n",
                "bad_data_dct[train_or_val]={}\n",
                "for line in bad_data:\n",
                "    if '(' in line:\n",
                "        number=line.split(' ')[0]\n",
                "        bad_data_dct[train_or_val][number]={}\n",
                "        n_examples=line.split(' ')[1].replace('(','')\n",
                "        n_examples=n_examples.replace(')','')\n",
                "        bad_data_dct[train_or_val][number]['n_examples']=int(n_examples)\n",
                "        bad_data_dct[train_or_val][number]['bad_examples']=[]\n",
                "    elif 'val' in line:\n",
                "        train_or_val='val'\n",
                "        bad_data_dct[train_or_val]={}\n",
                "    elif line.startswith('-'):\n",
                "        bad_data_dct[train_or_val][number]['bad_examples'].append(line.split('- ')[1])\n"
            ],
            "outputs": [],
            "metadata": {}
        },
        {
            "cell_type": "code",
            "execution_count": null,
            "source": [
                "bad_data_dct"
            ],
            "outputs": [],
            "metadata": {}
        },
        {
            "cell_type": "code",
            "execution_count": null,
            "source": [
                "#TODO\n",
                "#mask out bad examples from training data\n",
                "#try masking both with and without ? and compare accuracy\n",
                "#create different copies of the training data?\n",
                "#is order of numberated datasets persistent?\n",
                "#balanace classes baed on n_examples\n"
            ],
            "outputs": [],
            "metadata": {}
        },
        {
            "cell_type": "code",
            "execution_count": 37,
            "source": [
                "from pathlib import Path\n",
                "#Find file names of bad data\n",
                "remove_uncertain=True\n",
                "bad_imgs=[]\n",
                "data_dir=Path('../data/')\n",
                "for number in bad_data_dct['train'].keys():\n",
                "    all_imgs_for_number=[_.name for _ in data_dir.glob(f'**/train-renamed/{number}/*.png')]    \n",
                "    for n in bad_data_dct['train'][number]['bad_examples']:\n",
                "        if remove_uncertain:\n",
                "            n=n.replace('?','')\n",
                "        for img in all_imgs_for_number:\n",
                "            if img.split('-')[0]==n:\n",
                "                #print(n)\n",
                "                #print('-'.join(img.split('-')[1:]))\n",
                "                bad_imgs.append('-'.join(img.split('-')[1:]))\n",
                "\n",
                "for number in bad_data_dct['val'].keys():\n",
                "    all_imgs_for_number=[_.name for _ in data_dir.glob(f'**/val-renamed/{number}/*.png')]    \n",
                "    for n in bad_data_dct['val'][number]['bad_examples']:\n",
                "        if remove_uncertain:\n",
                "            n=n.replace('?','')\n",
                "        for img in all_imgs_for_number:\n",
                "            if img.split('-')[0]==n:\n",
                "                #print(n)\n",
                "                #print('-'.join(img.split('-')[1:]))\n",
                "                bad_imgs.append('-'.join(img.split('-')[1:]))\n",
                "\n",
                "\n",
                "len(bad_imgs)"
            ],
            "outputs": [
                {
                    "output_type": "execute_result",
                    "data": {
                        "text/plain": [
                            "267"
                        ]
                    },
                    "metadata": {},
                    "execution_count": 37
                }
            ],
            "metadata": {}
        },
        {
            "cell_type": "code",
            "execution_count": 38,
            "source": [
                "from shutil import copytree\n",
                "import os\n",
                "\n",
                "#create copy of data and remove bad imgs\n",
                "copytree(data_dir/'train',data_dir/'train-clean',dirs_exist_ok=True)\n",
                "for img in bad_imgs:\n",
                "    for match in (data_dir/'train-clean').glob(f'**/{img}'):\n",
                "        os.remove(match)\n",
                "\n",
                "copytree(data_dir/'val',data_dir/'val-clean',dirs_exist_ok=True)\n",
                "for img in bad_imgs:\n",
                "    for match in (data_dir/'val-clean').glob(f'**/{img}'):\n",
                "        os.remove(match)\n"
            ],
            "outputs": [],
            "metadata": {}
        }
    ],
    "metadata": {
        "orig_nbformat": 4,
        "language_info": {
            "name": "python",
            "version": "3.8.10",
            "mimetype": "text/x-python",
            "codemirror_mode": {
                "name": "ipython",
                "version": 3
            },
            "pygments_lexer": "ipython3",
            "nbconvert_exporter": "python",
            "file_extension": ".py"
        },
        "kernelspec": {
            "name": "python3",
            "display_name": "Python 3.8.10 64-bit ('tf_m1': conda)"
        },
        "interpreter": {
            "hash": "209cf731f3cd8258de834293906c865ec04610b0152d9d85d8232254c3973610"
        }
    },
    "nbformat": 4,
    "nbformat_minor": 2
}
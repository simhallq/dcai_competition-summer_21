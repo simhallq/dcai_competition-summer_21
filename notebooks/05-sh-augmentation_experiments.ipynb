{
    "cells": [
        {
            "cell_type": "code",
            "execution_count": 2,
            "source": [
                "#try elastic transform https://www.kaggle.com/babbler/mnist-data-augmentation-with-elastic-distortion\n",
                "import numpy as np\n",
                "from PIL import Image\n",
                "from IPython.display import display\n",
                "from scipy.ndimage.filters import gaussian_filter\n",
                "from scipy.ndimage.interpolation import map_coordinates\n",
                "import cv2\n",
                "\n",
                "\n",
                "def elastic_transform(image, alpha_range, sigma, random_state=None):\n",
                "    \"\"\"Elastic deformation of images as described in [Simard2003]_.\n",
                "    .. [Simard2003] Simard, Steinkraus and Platt, \"Best Practices for\n",
                "       Convolutional Neural Networks applied to Visual Document Analysis\", in\n",
                "       Proc. of the International Conference on Document Analysis and\n",
                "       Recognition, 2003.\n",
                "       \n",
                "   # Arguments\n",
                "       image: Numpy array with shape (height, width, channels). \n",
                "       alpha_range: Float for fixed value or [lower, upper] for random value from uniform distribution.\n",
                "           Controls intensity of deformation.\n",
                "       sigma: Float, sigma of gaussian filter that smooths the displacement fields.\n",
                "       random_state: `numpy.random.RandomState` object for generating displacement fields.\n",
                "    \"\"\"\n",
                "    \n",
                "    if random_state is None:\n",
                "        random_state = np.random.RandomState(None)\n",
                "        \n",
                "    if np.isscalar(alpha_range):\n",
                "        alpha = alpha_range\n",
                "    else:\n",
                "        alpha = np.random.uniform(low=alpha_range[0], high=alpha_range[1])\n",
                "\n",
                "    shape = image.shape\n",
                "    dx = gaussian_filter((random_state.rand(*shape) * 2 - 1), sigma) * alpha\n",
                "    dy = gaussian_filter((random_state.rand(*shape) * 2 - 1), sigma) * alpha\n",
                "\n",
                "    x, y, z = np.meshgrid(np.arange(shape[0]), np.arange(shape[1]), np.arange(shape[2]), indexing='ij')\n",
                "    indices = np.reshape(x+dx, (-1, 1)), np.reshape(y+dy, (-1, 1)), np.reshape(z, (-1, 1))\n",
                "\n",
                "    return map_coordinates(image, indices, order=1, mode='reflect').reshape(shape)\n",
                "\n",
                "img=cv2.imread('/Users/simon/dcai_competition-summer_21/data/label_book/iv/a6d9760e-ce5d-11eb-b317-38f9d35ea60f.png')\n",
                "\n",
                "\n",
                "trans_img=elastic_transform(img,alpha_range=[20, 25], sigma=4)\n",
                "display(Image.fromarray(img))\n",
                "display(Image.fromarray(trans_img))\n",
                "\n",
                "img.shape"
            ],
            "outputs": [
                {
                    "output_type": "display_data",
                    "data": {
                        "text/plain": [
                            "<PIL.Image.Image image mode=RGB size=209x253 at 0x1292F7F70>"
                        ],
                        "image/png": "[encoded data removed]"
                    },
                    "metadata": {}
                },
                {
                    "output_type": "display_data",
                    "data": {
                        "text/plain": [
                            "<PIL.Image.Image image mode=RGB size=209x253 at 0x1292F7FA0>"
                        ],
                        "image/png": "[encoded data removed]"
                    },
                    "metadata": {}
                },
                {
                    "output_type": "execute_result",
                    "data": {
                        "text/plain": [
                            "(253, 209, 3)"
                        ]
                    },
                    "metadata": {},
                    "execution_count": 2
                }
            ],
            "metadata": {}
        },
        {
            "cell_type": "code",
            "execution_count": 35,
            "source": [
                "img.shape"
            ],
            "outputs": [
                {
                    "output_type": "execute_result",
                    "data": {
                        "text/plain": [
                            "(253, 209, 3)"
                        ]
                    },
                    "metadata": {},
                    "execution_count": 35
                }
            ],
            "metadata": {}
        },
        {
            "cell_type": "code",
            "execution_count": 42,
            "source": [
                "#FOR ADDING GAUSSIAN NOISE/SPECKLES https://nanonets.com/blog/data-augmentation-how-to-use-deep-learning-when-you-have-limited-data-part-2/\n",
                "import tensorflow.compat.v1 as tf\n",
                "tf.disable_v2_behavior()\n",
                "\n",
                "def add_noise(img):\n",
                "    #TensorFlow. 'x' = A placeholder for an image.\n",
                "    shape = img.shape\n",
                "    img = tf.placeholder(dtype = tf.float32, shape = shape)\n",
                "    # Adding Gaussian noise\n",
                "    noise = tf.random_normal(shape=tf.shape(img), mean=0.0, stddev=1.0,\n",
                "    dtype=tf.float32)\n",
                "    return tf.add(img, noise)\n",
                "img=cv2.imread('/Users/simon/dcai_competition-summer_21/data/label_book/iv/a6d9760e-ce5d-11eb-b317-38f9d35ea60f.png')\n",
                "\n",
                "\n",
                "trans_img=add_noise(img)\n",
                "display(Image.fromarray(img))\n",
                "display(Image.fromarray(trans_img))"
            ],
            "outputs": [
                {
                    "output_type": "display_data",
                    "data": {
                        "text/plain": [
                            "<PIL.Image.Image image mode=RGB size=209x253 at 0x13CD1DDF0>"
                        ],
                        "image/png": "[encoded data removed]"
                    },
                    "metadata": {}
                },
                {
                    "output_type": "error",
                    "ename": "AttributeError",
                    "evalue": "'Tensor' object has no attribute '__array_interface__'",
                    "traceback": [
                        "\u001b[0;31m---------------------------------------------------------------------------\u001b[0m",
                        "\u001b[0;31mAttributeError\u001b[0m                            Traceback (most recent call last)",
                        "\u001b[0;32m<ipython-input-42-195271ca1532>\u001b[0m in \u001b[0;36m<module>\u001b[0;34m\u001b[0m\n\u001b[1;32m     15\u001b[0m \u001b[0mtrans_img\u001b[0m\u001b[0;34m=\u001b[0m\u001b[0madd_noise\u001b[0m\u001b[0;34m(\u001b[0m\u001b[0mimg\u001b[0m\u001b[0;34m)\u001b[0m\u001b[0;34m\u001b[0m\u001b[0;34m\u001b[0m\u001b[0m\n\u001b[1;32m     16\u001b[0m \u001b[0mdisplay\u001b[0m\u001b[0;34m(\u001b[0m\u001b[0mImage\u001b[0m\u001b[0;34m.\u001b[0m\u001b[0mfromarray\u001b[0m\u001b[0;34m(\u001b[0m\u001b[0mimg\u001b[0m\u001b[0;34m)\u001b[0m\u001b[0;34m)\u001b[0m\u001b[0;34m\u001b[0m\u001b[0;34m\u001b[0m\u001b[0m\n\u001b[0;32m---> 17\u001b[0;31m \u001b[0mdisplay\u001b[0m\u001b[0;34m(\u001b[0m\u001b[0mImage\u001b[0m\u001b[0;34m.\u001b[0m\u001b[0mfromarray\u001b[0m\u001b[0;34m(\u001b[0m\u001b[0mtrans_img\u001b[0m\u001b[0;34m)\u001b[0m\u001b[0;34m)\u001b[0m\u001b[0;34m\u001b[0m\u001b[0;34m\u001b[0m\u001b[0m\n\u001b[0m",
                        "\u001b[0;32m~/miniforge3/envs/tf_m1/lib/python3.8/site-packages/PIL/Image.py\u001b[0m in \u001b[0;36mfromarray\u001b[0;34m(obj, mode)\u001b[0m\n\u001b[1;32m   2816\u001b[0m     \u001b[0;34m.\u001b[0m\u001b[0;34m.\u001b[0m \u001b[0mversionadded\u001b[0m\u001b[0;34m:\u001b[0m\u001b[0;34m:\u001b[0m \u001b[0;36m1.1\u001b[0m\u001b[0;36m.6\u001b[0m\u001b[0;34m\u001b[0m\u001b[0;34m\u001b[0m\u001b[0m\n\u001b[1;32m   2817\u001b[0m     \"\"\"\n\u001b[0;32m-> 2818\u001b[0;31m     \u001b[0marr\u001b[0m \u001b[0;34m=\u001b[0m \u001b[0mobj\u001b[0m\u001b[0;34m.\u001b[0m\u001b[0m__array_interface__\u001b[0m\u001b[0;34m\u001b[0m\u001b[0;34m\u001b[0m\u001b[0m\n\u001b[0m\u001b[1;32m   2819\u001b[0m     \u001b[0mshape\u001b[0m \u001b[0;34m=\u001b[0m \u001b[0marr\u001b[0m\u001b[0;34m[\u001b[0m\u001b[0;34m\"shape\"\u001b[0m\u001b[0;34m]\u001b[0m\u001b[0;34m\u001b[0m\u001b[0;34m\u001b[0m\u001b[0m\n\u001b[1;32m   2820\u001b[0m     \u001b[0mndim\u001b[0m \u001b[0;34m=\u001b[0m \u001b[0mlen\u001b[0m\u001b[0;34m(\u001b[0m\u001b[0mshape\u001b[0m\u001b[0;34m)\u001b[0m\u001b[0;34m\u001b[0m\u001b[0;34m\u001b[0m\u001b[0m\n",
                        "\u001b[0;31mAttributeError\u001b[0m: 'Tensor' object has no attribute '__array_interface__'"
                    ]
                }
            ],
            "metadata": {}
        },
        {
            "cell_type": "code",
            "execution_count": 8,
            "source": [
                "import numpy as np\n",
                "import cv2\n",
                "from IPython.display import display\n",
                "img=cv2.imread('/Users/simon/dcai_competition-summer_21/data/val-clean/i/b1a4b210-ce5d-11eb-b317-38f9d35ea60f.png')\n",
                "from PIL import Image\n",
                "\n",
                "def rotate_image(image, angle):\n",
                "  \"\"\"\n",
                "  Angle in degrees.\n",
                "  \"\"\"\n",
                "  image_center = tuple(np.array(image.shape[1::-1]) / 2)\n",
                "  rot_mat = cv2.getRotationMatrix2D(image_center, angle, 1.0)\n",
                "  result = cv2.warpAffine(image, rot_mat, image.shape[1::-1], flags=cv2.INTER_LINEAR,borderValue=(255,255,255))\n",
                "  return result\n",
                "\n",
                "\n",
                "\n",
                "rotated_img=rotate_image(img,10)\n",
                "\n",
                "\n",
                "\n",
                "display(Image.fromarray(img))\n",
                "display(Image.fromarray(rotated_img))"
            ],
            "outputs": [
                {
                    "output_type": "display_data",
                    "data": {
                        "text/plain": [
                            "<PIL.Image.Image image mode=RGB size=240x240 at 0x13CD685B0>"
                        ],
                        "image/png": "[encoded data removed]"
                    },
                    "metadata": {}
                },
                {
                    "output_type": "display_data",
                    "data": {
                        "text/plain": [
                            "<PIL.Image.Image image mode=RGB size=240x240 at 0x1059A3040>"
                        ],
                        "image/png": "[encoded data removed]"
                    },
                    "metadata": {}
                }
            ],
            "metadata": {}
        },
        {
            "cell_type": "code",
            "execution_count": null,
            "source": [
                "import numpy as np\n",
                "import os\n",
                "import cv2\n",
                "def noisy(image):\n",
                "\n",
                "    row,col,ch= image.shape\n",
                "    mean = 0\n",
                "    var = 0.1\n",
                "    sigma = var**0.5\n",
                "    gauss = np.random.normal(mean,sigma,(row,col,ch))\n",
                "    gauss = gauss.reshape(row,col,ch)\n",
                "    noisy = image + gauss\n",
                "    return noisy\n"
            ],
            "outputs": [],
            "metadata": {}
        }
    ],
    "metadata": {
        "orig_nbformat": 4,
        "language_info": {
            "name": "python",
            "version": "3.8.10",
            "mimetype": "text/x-python",
            "codemirror_mode": {
                "name": "ipython",
                "version": 3
            },
            "pygments_lexer": "ipython3",
            "nbconvert_exporter": "python",
            "file_extension": ".py"
        },
        "kernelspec": {
            "name": "python3",
            "display_name": "Python 3.8.10 64-bit ('tf_m1': conda)"
        },
        "interpreter": {
            "hash": "209cf731f3cd8258de834293906c865ec04610b0152d9d85d8232254c3973610"
        }
    },
    "nbformat": 4,
    "nbformat_minor": 2
}